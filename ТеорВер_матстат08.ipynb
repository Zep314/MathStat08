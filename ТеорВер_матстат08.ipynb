{
 "cells": [
  {
   "cell_type": "markdown",
   "id": "c23e201a",
   "metadata": {},
   "source": [
    "# Теория вероятностей и математическая статистика (семинары)\n",
    "## Урок 8. Корреляционный анализ"
   ]
  },
  {
   "cell_type": "code",
   "execution_count": 1,
   "id": "183c7f98",
   "metadata": {},
   "outputs": [],
   "source": [
    "import numpy as np\n",
    "import scipy.stats as stats\n",
    "from statsmodels.stats.weightstats import _tconfint_generic as t_stat\n",
    "from statsmodels.stats.weightstats import _zconfint_generic as z_stat"
   ]
  },
  {
   "cell_type": "markdown",
   "id": "19de149c",
   "metadata": {},
   "source": [
    "## Задача 1\n",
    "Даны значения величины заработной платы заемщиков банка (zp) и значения их поведенческого кредитного скоринга (ks):\n",
    "\n",
    "zp = \\[35, 45, 190, 200, 40, 70, 54, 150, 120, 110\\],\n",
    "\n",
    "ks = \\[401, 574, 874, 919, 459, 739, 653, 902, 746, 832\\].\n",
    "\n",
    "Найдите ковариацию этих двух величин с помощью элементарных действий, а затем с помощью функции cov из numpy\n",
    "Полученные значения должны быть равны.\n",
    "\n",
    "Найдите коэффициент корреляции Пирсона с помощью ковариации и среднеквадратичных отклонений двух признаков,\n",
    "а затем с использованием функций из библиотек numpy и pandas.\n"
   ]
  },
  {
   "cell_type": "markdown",
   "id": "50fb4c88",
   "metadata": {},
   "source": [
    "### Решение\n",
    "Найдем ковариацию двух величин по формулам:"
   ]
  },
  {
   "cell_type": "code",
   "execution_count": 2,
   "id": "f3b39a58",
   "metadata": {},
   "outputs": [],
   "source": [
    "zp = np.array([35, 45, 190, 200, 40, 70, 54, 150, 120, 110])\n",
    "ks = np.array( [401, 574, 874, 919, 459, 739, 653, 902, 746, 832])"
   ]
  },
  {
   "cell_type": "code",
   "execution_count": 3,
   "id": "7a04ae24",
   "metadata": {},
   "outputs": [],
   "source": [
    "x_mean = zp.mean()\n",
    "y_mean = ks.mean()\n",
    "xy_mean = (zp * ks).mean()"
   ]
  },
  {
   "cell_type": "code",
   "execution_count": 4,
   "id": "ff97394c",
   "metadata": {},
   "outputs": [
    {
     "data": {
      "text/plain": [
       "9157.839999999997"
      ]
     },
     "execution_count": 4,
     "metadata": {},
     "output_type": "execute_result"
    }
   ],
   "source": [
    "cov_ks = xy_mean - x_mean * y_mean\n",
    "cov_ks"
   ]
  },
  {
   "cell_type": "markdown",
   "id": "16fd075d",
   "metadata": {},
   "source": [
    "Теперь найдем ковариацию двух величин с помощью стандартной функции:"
   ]
  },
  {
   "cell_type": "code",
   "execution_count": 5,
   "id": "34e588f4",
   "metadata": {},
   "outputs": [
    {
     "data": {
      "text/plain": [
       "array([[ 3494.64,  9157.84],\n",
       "       [ 9157.84, 30468.89]])"
      ]
     },
     "execution_count": 5,
     "metadata": {},
     "output_type": "execute_result"
    }
   ],
   "source": [
    "np.cov(zp, ks, ddof=0)"
   ]
  },
  {
   "cell_type": "code",
   "execution_count": 6,
   "id": "7de3b67c",
   "metadata": {},
   "outputs": [
    {
     "data": {
      "text/plain": [
       "9157.84"
      ]
     },
     "execution_count": 6,
     "metadata": {},
     "output_type": "execute_result"
    }
   ],
   "source": [
    "cov_ks2 = ((zp - zp.mean()) * (ks - ks.mean())).mean()\n",
    "cov_ks2"
   ]
  },
  {
   "cell_type": "markdown",
   "id": "2326840e",
   "metadata": {},
   "source": [
    "Найдем коэффициент корреляции Пирсона с помощью ковариации и среднеквадратичных отклонений двух признаков"
   ]
  },
  {
   "cell_type": "code",
   "execution_count": 7,
   "id": "26e1cf47",
   "metadata": {},
   "outputs": [],
   "source": [
    "x_std = zp.std()\n",
    "y_std = ks.std()"
   ]
  },
  {
   "cell_type": "code",
   "execution_count": 8,
   "id": "cc4b2b7d",
   "metadata": {},
   "outputs": [
    {
     "data": {
      "text/plain": [
       "0.8874900920739158"
      ]
     },
     "execution_count": 8,
     "metadata": {},
     "output_type": "execute_result"
    }
   ],
   "source": [
    "corr_ks = cov_ks / (x_std * y_std)\n",
    "corr_ks"
   ]
  },
  {
   "cell_type": "markdown",
   "id": "b60186f6",
   "metadata": {},
   "source": [
    "Теперь найдем коэффициент корреляции Пирсона с помощью функции библиотеки numpy"
   ]
  },
  {
   "cell_type": "code",
   "execution_count": 9,
   "id": "51d9cf86",
   "metadata": {},
   "outputs": [
    {
     "data": {
      "text/plain": [
       "array([[1.        , 0.88749009],\n",
       "       [0.88749009, 1.        ]])"
      ]
     },
     "execution_count": 9,
     "metadata": {},
     "output_type": "execute_result"
    }
   ],
   "source": [
    "np.corrcoef(zp, ks)"
   ]
  },
  {
   "cell_type": "markdown",
   "id": "3f8f1244",
   "metadata": {},
   "source": [
    "### Ответ:\n",
    "Ковариация двух величин равна 9157.84\n",
    "\n",
    "Коэффициент корреляции Пирсона двух вечличин равен 0.88749009"
   ]
  },
  {
   "cell_type": "markdown",
   "id": "0943f43a",
   "metadata": {},
   "source": [
    "# \n",
    "## Задача 2\n",
    "Измерены значения IQ выборки студентов, обучающихся в местных технических вузах:\n",
    "\n",
    "131, 125, 115, 122, 131, 115, 107, 99, 125, 111.\n",
    "\n",
    "Известно, что в генеральной совокупности IQ распределен нормально.\n",
    "\n",
    "Найдите доверительный интервал для математического ожидания с надежностью 0.95.\n"
   ]
  },
  {
   "cell_type": "markdown",
   "id": "7858b13e",
   "metadata": {},
   "source": [
    "### Решение"
   ]
  },
  {
   "cell_type": "code",
   "execution_count": 10,
   "id": "19f76997",
   "metadata": {},
   "outputs": [],
   "source": [
    "x = np.array([131, 125, 115, 122, 131, 115, 107, 99, 125, 111])\n",
    "x_mean = x.mean()\n",
    "std_x = x.std(ddof=1)\n",
    "x_mean_std = std_x / (np.sqrt(len(x)))"
   ]
  },
  {
   "cell_type": "code",
   "execution_count": 11,
   "id": "da080d7b",
   "metadata": {},
   "outputs": [
    {
     "data": {
      "text/plain": [
       "(110.55608365158724, 125.64391634841274)"
      ]
     },
     "execution_count": 11,
     "metadata": {},
     "output_type": "execute_result"
    }
   ],
   "source": [
    "t_stat(x_mean, x_mean_std, len(x) - 1, 0.05, 'two-sided')"
   ]
  },
  {
   "cell_type": "markdown",
   "id": "8e745c42",
   "metadata": {},
   "source": [
    "### Ответ:\n",
    "Доверительный интервал располагается в диапазоне (110.56, 125.64)"
   ]
  },
  {
   "cell_type": "markdown",
   "id": "66d5fbca",
   "metadata": {},
   "source": [
    "# \n",
    "## Задача 3\n",
    "Известно, что рост футболистов в сборной распределен нормально с дисперсией генеральной совокупности, равной 25 кв.см. Объем выборки равен 27, среднее выборочное составляет 174.2. Найдите доверительный интервал для математического ожидания с надежностью 0.95."
   ]
  },
  {
   "cell_type": "markdown",
   "id": "058ef4c9",
   "metadata": {},
   "source": [
    "### Решение"
   ]
  },
  {
   "cell_type": "code",
   "execution_count": 12,
   "id": "d2024e83",
   "metadata": {},
   "outputs": [],
   "source": [
    "n = 27\n",
    "x_mean = 174.2\n",
    "x_std = np.sqrt(25)\n",
    "x_mean_std = x_std / np.sqrt(n)"
   ]
  },
  {
   "cell_type": "code",
   "execution_count": 13,
   "id": "acb8daf6",
   "metadata": {},
   "outputs": [
    {
     "data": {
      "text/plain": [
       "(172.3140237765397, 176.08597622346028)"
      ]
     },
     "execution_count": 13,
     "metadata": {},
     "output_type": "execute_result"
    }
   ],
   "source": [
    "z_stat(x_mean, x_mean_std, 0.05, 'two-sided')"
   ]
  },
  {
   "cell_type": "markdown",
   "id": "82f6238c",
   "metadata": {},
   "source": [
    "### Ответ:\n",
    "Доверительный интервал располагается в диапазоне (172.31, 176.09)"
   ]
  },
  {
   "cell_type": "code",
   "execution_count": null,
   "id": "df924ad0",
   "metadata": {},
   "outputs": [],
   "source": []
  }
 ],
 "metadata": {
  "kernelspec": {
   "display_name": "Python 3 (ipykernel)",
   "language": "python",
   "name": "python3"
  },
  "language_info": {
   "codemirror_mode": {
    "name": "ipython",
    "version": 3
   },
   "file_extension": ".py",
   "mimetype": "text/x-python",
   "name": "python",
   "nbconvert_exporter": "python",
   "pygments_lexer": "ipython3",
   "version": "3.9.12"
  }
 },
 "nbformat": 4,
 "nbformat_minor": 5
}
